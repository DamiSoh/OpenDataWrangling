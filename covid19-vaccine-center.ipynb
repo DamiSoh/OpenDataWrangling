{
 "cells": [
  {
   "cell_type": "markdown",
   "metadata": {},
   "source": [
    "* [공공데이터활용지원센터_코로나19 예방접종센터 현황_20210428 | 공공데이터포털](https://www.data.go.kr/data/15077603/fileData.do)\n",
    "\n",
    "공공데이터활용지원센터_코로나19 예방접종센터 현황\n",
    "중앙•권역, 지역별 코로나19 예방접종센터 주소정보입니다. 예방접종센터 정보는 질병관리청의 센터 추가 설치 및 폐지에 맞춰서 현행화하여 제공할 예정입니다. 해당 정보는 응용서비스 개발에 편리하도록 Open API(공공데이터활용지원센터_코로나19 예방접종센터 조회서비스 : https://www.data.go.kr/tcs/dss/selectApiDataDetailView.do?publicDataPk=15077586) 로도 제공하고 있습니다."
   ]
  },
  {
   "cell_type": "code",
   "execution_count": 1,
   "metadata": {},
   "outputs": [],
   "source": [
    "import pandas as pd"
   ]
  },
  {
   "cell_type": "code",
   "execution_count": 2,
   "metadata": {},
   "outputs": [],
   "source": [
    "df = pd.read_csv(\"data/공공데이터활용지원센터_코로나19예방접종센터현황.csv\", encoding=\"cp949\")"
   ]
  },
  {
   "cell_type": "code",
   "execution_count": 3,
   "metadata": {},
   "outputs": [
    {
     "data": {
      "text/plain": [
       "(257, 7)"
      ]
     },
     "execution_count": 3,
     "metadata": {},
     "output_type": "execute_result"
    }
   ],
   "source": [
    "df.shape"
   ]
  },
  {
   "cell_type": "code",
   "execution_count": 4,
   "metadata": {},
   "outputs": [
    {
     "data": {
      "text/html": [
       "<div>\n",
       "<style scoped>\n",
       "    .dataframe tbody tr th:only-of-type {\n",
       "        vertical-align: middle;\n",
       "    }\n",
       "\n",
       "    .dataframe tbody tr th {\n",
       "        vertical-align: top;\n",
       "    }\n",
       "\n",
       "    .dataframe thead th {\n",
       "        text-align: right;\n",
       "    }\n",
       "</style>\n",
       "<table border=\"1\" class=\"dataframe\">\n",
       "  <thead>\n",
       "    <tr style=\"text-align: right;\">\n",
       "      <th></th>\n",
       "      <th>연번</th>\n",
       "      <th>센터유형</th>\n",
       "      <th>센터명</th>\n",
       "      <th>운영기관</th>\n",
       "      <th>시설명</th>\n",
       "      <th>우편번호</th>\n",
       "      <th>주소</th>\n",
       "    </tr>\n",
       "  </thead>\n",
       "  <tbody>\n",
       "    <tr>\n",
       "      <th>0</th>\n",
       "      <td>1</td>\n",
       "      <td>중앙/권역</td>\n",
       "      <td>코로나19 중앙 예방접종센터</td>\n",
       "      <td>국립중앙의료원</td>\n",
       "      <td>국립중앙의료원 D동</td>\n",
       "      <td>04562</td>\n",
       "      <td>서울특별시 중구 을지로 39길 29</td>\n",
       "    </tr>\n",
       "    <tr>\n",
       "      <th>1</th>\n",
       "      <td>2</td>\n",
       "      <td>중앙/권역</td>\n",
       "      <td>코로나19 중부권역 예방접종센터</td>\n",
       "      <td>순천향대 천안병원</td>\n",
       "      <td>천안시 실내배드민턴장 1층</td>\n",
       "      <td>31212</td>\n",
       "      <td>충청남도 천안시 동남구 천안대로 357</td>\n",
       "    </tr>\n",
       "    <tr>\n",
       "      <th>2</th>\n",
       "      <td>3</td>\n",
       "      <td>중앙/권역</td>\n",
       "      <td>코로나19 호남권역 예방접종센터</td>\n",
       "      <td>조선대병원</td>\n",
       "      <td>조선대학교병원 의성관 5층</td>\n",
       "      <td>61452</td>\n",
       "      <td>광주광역시 동구 필문대로 365</td>\n",
       "    </tr>\n",
       "    <tr>\n",
       "      <th>3</th>\n",
       "      <td>4</td>\n",
       "      <td>중앙/권역</td>\n",
       "      <td>코로나19 영남권역 예방접종센터</td>\n",
       "      <td>양산 부산대병원</td>\n",
       "      <td>양산 부산대병원 기숙사동 1층</td>\n",
       "      <td>50612</td>\n",
       "      <td>경상남도 양산시 물금읍 금오로 20</td>\n",
       "    </tr>\n",
       "    <tr>\n",
       "      <th>4</th>\n",
       "      <td>5</td>\n",
       "      <td>지역</td>\n",
       "      <td>코로나19 대구광역시 중구 예방접종센터</td>\n",
       "      <td>NaN</td>\n",
       "      <td>계명대학교 대구동산병원 별관</td>\n",
       "      <td>41931</td>\n",
       "      <td>대구시 중구 달성로 56</td>\n",
       "    </tr>\n",
       "  </tbody>\n",
       "</table>\n",
       "</div>"
      ],
      "text/plain": [
       "   연번   센터유형                    센터명       운영기관               시설명   우편번호  \\\n",
       "0   1  중앙/권역        코로나19 중앙 예방접종센터    국립중앙의료원        국립중앙의료원 D동  04562   \n",
       "1   2  중앙/권역      코로나19 중부권역 예방접종센터  순천향대 천안병원    천안시 실내배드민턴장 1층  31212   \n",
       "2   3  중앙/권역      코로나19 호남권역 예방접종센터      조선대병원    조선대학교병원 의성관 5층  61452   \n",
       "3   4  중앙/권역      코로나19 영남권역 예방접종센터   양산 부산대병원  양산 부산대병원 기숙사동 1층  50612   \n",
       "4   5     지역  코로나19 대구광역시 중구 예방접종센터        NaN   계명대학교 대구동산병원 별관  41931   \n",
       "\n",
       "                      주소  \n",
       "0    서울특별시 중구 을지로 39길 29  \n",
       "1  충청남도 천안시 동남구 천안대로 357  \n",
       "2      광주광역시 동구 필문대로 365  \n",
       "3    경상남도 양산시 물금읍 금오로 20  \n",
       "4          대구시 중구 달성로 56  "
      ]
     },
     "execution_count": 4,
     "metadata": {},
     "output_type": "execute_result"
    }
   ],
   "source": [
    "df.head()"
   ]
  },
  {
   "cell_type": "code",
   "execution_count": 5,
   "metadata": {},
   "outputs": [
    {
     "name": "stdout",
     "output_type": "stream",
     "text": [
      "<class 'pandas.core.frame.DataFrame'>\n",
      "RangeIndex: 257 entries, 0 to 256\n",
      "Data columns (total 7 columns):\n",
      " #   Column  Non-Null Count  Dtype \n",
      "---  ------  --------------  ----- \n",
      " 0   연번      257 non-null    int64 \n",
      " 1   센터유형    257 non-null    object\n",
      " 2   센터명     257 non-null    object\n",
      " 3   운영기관    4 non-null      object\n",
      " 4   시설명     257 non-null    object\n",
      " 5   우편번호    257 non-null    object\n",
      " 6   주소      257 non-null    object\n",
      "dtypes: int64(1), object(6)\n",
      "memory usage: 14.2+ KB\n"
     ]
    }
   ],
   "source": [
    "df.info()"
   ]
  },
  {
   "cell_type": "code",
   "execution_count": 6,
   "metadata": {},
   "outputs": [],
   "source": [
    "df[\"시도\"] = df[\"주소\"].str.split(expand=True)[0]\n",
    "df[\"구군\"] = df[\"주소\"].str.split(expand=True)[1]"
   ]
  },
  {
   "cell_type": "code",
   "execution_count": 7,
   "metadata": {},
   "outputs": [
    {
     "data": {
      "text/plain": [
       "경기도        43\n",
       "서울특별시      27\n",
       "경상남도       19\n",
       "경상북도       18\n",
       "전라남도       17\n",
       "강원도        17\n",
       "부산광역시      15\n",
       "충청남도       14\n",
       "전라북도       13\n",
       "충청북도       13\n",
       "인천광역시      11\n",
       "대구광역시       8\n",
       "광주광역시       6\n",
       "경북          6\n",
       "전남          5\n",
       "대전광역시       5\n",
       "경기          4\n",
       "울산광역시       4\n",
       "충남          2\n",
       "경남          2\n",
       "강원          1\n",
       "부산          1\n",
       "대구시         1\n",
       "전주시         1\n",
       "제주특별자치도     1\n",
       "울산시         1\n",
       "세종특별자치시     1\n",
       "제주시         1\n",
       "Name: 시도, dtype: int64"
      ]
     },
     "execution_count": 7,
     "metadata": {},
     "output_type": "execute_result"
    }
   ],
   "source": [
    "df[\"시도\"].value_counts()"
   ]
  },
  {
   "cell_type": "code",
   "execution_count": 8,
   "metadata": {},
   "outputs": [],
   "source": [
    "df_seoul = df[df[\"시도\"] == \"서울특별시\"].copy()"
   ]
  },
  {
   "cell_type": "code",
   "execution_count": 9,
   "metadata": {},
   "outputs": [],
   "source": [
    "df_seoul[\"구군\"] = df_seoul[\"구군\"].str.replace(\"중구퇴계로\", \"중구\")"
   ]
  },
  {
   "cell_type": "code",
   "execution_count": 10,
   "metadata": {},
   "outputs": [
    {
     "data": {
      "text/plain": [
       "중구      2\n",
       "강남구     2\n",
       "노원구     1\n",
       "송파구     1\n",
       "강북구     1\n",
       "관악구     1\n",
       "양천구     1\n",
       "용산구     1\n",
       "중랑구     1\n",
       "구로구     1\n",
       "동대문구    1\n",
       "동작구     1\n",
       "금천구     1\n",
       "서대문구    1\n",
       "서초구     1\n",
       "은평구     1\n",
       "광진구     1\n",
       "성동구     1\n",
       "도봉구     1\n",
       "영등포구    1\n",
       "종로구     1\n",
       "강동구     1\n",
       "성북구     1\n",
       "마포구     1\n",
       "강서구     1\n",
       "Name: 구군, dtype: int64"
      ]
     },
     "execution_count": 10,
     "metadata": {},
     "output_type": "execute_result"
    }
   ],
   "source": [
    "df_seoul[\"구군\"].value_counts()"
   ]
  },
  {
   "cell_type": "code",
   "execution_count": 11,
   "metadata": {},
   "outputs": [
    {
     "data": {
      "text/html": [
       "<div>\n",
       "<style scoped>\n",
       "    .dataframe tbody tr th:only-of-type {\n",
       "        vertical-align: middle;\n",
       "    }\n",
       "\n",
       "    .dataframe tbody tr th {\n",
       "        vertical-align: top;\n",
       "    }\n",
       "\n",
       "    .dataframe thead th {\n",
       "        text-align: right;\n",
       "    }\n",
       "</style>\n",
       "<table border=\"1\" class=\"dataframe\">\n",
       "  <thead>\n",
       "    <tr style=\"text-align: right;\">\n",
       "      <th></th>\n",
       "      <th>연번</th>\n",
       "      <th>센터유형</th>\n",
       "      <th>센터명</th>\n",
       "      <th>운영기관</th>\n",
       "      <th>시설명</th>\n",
       "      <th>우편번호</th>\n",
       "      <th>주소</th>\n",
       "      <th>시도</th>\n",
       "      <th>구군</th>\n",
       "    </tr>\n",
       "  </thead>\n",
       "  <tbody>\n",
       "    <tr>\n",
       "      <th>86</th>\n",
       "      <td>87</td>\n",
       "      <td>지역</td>\n",
       "      <td>코로나19 서울특별시 강남구 예방접종센터</td>\n",
       "      <td>NaN</td>\n",
       "      <td>일원에코센터</td>\n",
       "      <td>135-230</td>\n",
       "      <td>서울특별시 강남구 일원동 4-12</td>\n",
       "      <td>서울특별시</td>\n",
       "      <td>강남구</td>\n",
       "    </tr>\n",
       "    <tr>\n",
       "      <th>204</th>\n",
       "      <td>205</td>\n",
       "      <td>지역</td>\n",
       "      <td>코로나19 서울특별시 강남구 예방접종센터</td>\n",
       "      <td>NaN</td>\n",
       "      <td>강남관광정보센터</td>\n",
       "      <td>06001</td>\n",
       "      <td>서울특별시 강남구 압구정로 161</td>\n",
       "      <td>서울특별시</td>\n",
       "      <td>강남구</td>\n",
       "    </tr>\n",
       "  </tbody>\n",
       "</table>\n",
       "</div>"
      ],
      "text/plain": [
       "      연번 센터유형                     센터명 운영기관       시설명     우편번호  \\\n",
       "86    87   지역  코로나19 서울특별시 강남구 예방접종센터  NaN    일원에코센터  135-230   \n",
       "204  205   지역  코로나19 서울특별시 강남구 예방접종센터  NaN  강남관광정보센터    06001   \n",
       "\n",
       "                     주소     시도   구군  \n",
       "86   서울특별시 강남구 일원동 4-12  서울특별시  강남구  \n",
       "204  서울특별시 강남구 압구정로 161  서울특별시  강남구  "
      ]
     },
     "execution_count": 11,
     "metadata": {},
     "output_type": "execute_result"
    }
   ],
   "source": [
    "df[df[\"구군\"] == \"강남구\"]"
   ]
  },
  {
   "cell_type": "code",
   "execution_count": 12,
   "metadata": {},
   "outputs": [
    {
     "data": {
      "text/plain": [
       "지역       253\n",
       "중앙/권역      4\n",
       "Name: 센터유형, dtype: int64"
      ]
     },
     "execution_count": 12,
     "metadata": {},
     "output_type": "execute_result"
    }
   ],
   "source": [
    "df[\"센터유형\"].value_counts()"
   ]
  },
  {
   "cell_type": "code",
   "execution_count": 13,
   "metadata": {},
   "outputs": [
    {
     "data": {
      "text/html": [
       "<div>\n",
       "<style scoped>\n",
       "    .dataframe tbody tr th:only-of-type {\n",
       "        vertical-align: middle;\n",
       "    }\n",
       "\n",
       "    .dataframe tbody tr th {\n",
       "        vertical-align: top;\n",
       "    }\n",
       "\n",
       "    .dataframe thead th {\n",
       "        text-align: right;\n",
       "    }\n",
       "</style>\n",
       "<table border=\"1\" class=\"dataframe\">\n",
       "  <thead>\n",
       "    <tr style=\"text-align: right;\">\n",
       "      <th></th>\n",
       "      <th>연번</th>\n",
       "      <th>센터유형</th>\n",
       "      <th>센터명</th>\n",
       "      <th>운영기관</th>\n",
       "      <th>시설명</th>\n",
       "      <th>우편번호</th>\n",
       "      <th>주소</th>\n",
       "      <th>시도</th>\n",
       "      <th>구군</th>\n",
       "    </tr>\n",
       "  </thead>\n",
       "  <tbody>\n",
       "    <tr>\n",
       "      <th>0</th>\n",
       "      <td>1</td>\n",
       "      <td>중앙/권역</td>\n",
       "      <td>코로나19 중앙 예방접종센터</td>\n",
       "      <td>국립중앙의료원</td>\n",
       "      <td>국립중앙의료원 D동</td>\n",
       "      <td>04562</td>\n",
       "      <td>서울특별시 중구 을지로 39길 29</td>\n",
       "      <td>서울특별시</td>\n",
       "      <td>중구</td>\n",
       "    </tr>\n",
       "    <tr>\n",
       "      <th>1</th>\n",
       "      <td>2</td>\n",
       "      <td>중앙/권역</td>\n",
       "      <td>코로나19 중부권역 예방접종센터</td>\n",
       "      <td>순천향대 천안병원</td>\n",
       "      <td>천안시 실내배드민턴장 1층</td>\n",
       "      <td>31212</td>\n",
       "      <td>충청남도 천안시 동남구 천안대로 357</td>\n",
       "      <td>충청남도</td>\n",
       "      <td>천안시</td>\n",
       "    </tr>\n",
       "    <tr>\n",
       "      <th>2</th>\n",
       "      <td>3</td>\n",
       "      <td>중앙/권역</td>\n",
       "      <td>코로나19 호남권역 예방접종센터</td>\n",
       "      <td>조선대병원</td>\n",
       "      <td>조선대학교병원 의성관 5층</td>\n",
       "      <td>61452</td>\n",
       "      <td>광주광역시 동구 필문대로 365</td>\n",
       "      <td>광주광역시</td>\n",
       "      <td>동구</td>\n",
       "    </tr>\n",
       "    <tr>\n",
       "      <th>3</th>\n",
       "      <td>4</td>\n",
       "      <td>중앙/권역</td>\n",
       "      <td>코로나19 영남권역 예방접종센터</td>\n",
       "      <td>양산 부산대병원</td>\n",
       "      <td>양산 부산대병원 기숙사동 1층</td>\n",
       "      <td>50612</td>\n",
       "      <td>경상남도 양산시 물금읍 금오로 20</td>\n",
       "      <td>경상남도</td>\n",
       "      <td>양산시</td>\n",
       "    </tr>\n",
       "  </tbody>\n",
       "</table>\n",
       "</div>"
      ],
      "text/plain": [
       "   연번   센터유형                센터명       운영기관               시설명   우편번호  \\\n",
       "0   1  중앙/권역    코로나19 중앙 예방접종센터    국립중앙의료원        국립중앙의료원 D동  04562   \n",
       "1   2  중앙/권역  코로나19 중부권역 예방접종센터  순천향대 천안병원    천안시 실내배드민턴장 1층  31212   \n",
       "2   3  중앙/권역  코로나19 호남권역 예방접종센터      조선대병원    조선대학교병원 의성관 5층  61452   \n",
       "3   4  중앙/권역  코로나19 영남권역 예방접종센터   양산 부산대병원  양산 부산대병원 기숙사동 1층  50612   \n",
       "\n",
       "                      주소     시도   구군  \n",
       "0    서울특별시 중구 을지로 39길 29  서울특별시   중구  \n",
       "1  충청남도 천안시 동남구 천안대로 357   충청남도  천안시  \n",
       "2      광주광역시 동구 필문대로 365  광주광역시   동구  \n",
       "3    경상남도 양산시 물금읍 금오로 20   경상남도  양산시  "
      ]
     },
     "execution_count": 13,
     "metadata": {},
     "output_type": "execute_result"
    }
   ],
   "source": [
    "df[df[\"센터유형\"] == \"중앙/권역\"]"
   ]
  },
  {
   "cell_type": "code",
   "execution_count": null,
   "metadata": {},
   "outputs": [],
   "source": []
  }
 ],
 "metadata": {
  "kernelspec": {
   "display_name": "Python 3",
   "language": "python",
   "name": "python3"
  },
  "language_info": {
   "codemirror_mode": {
    "name": "ipython",
    "version": 3
   },
   "file_extension": ".py",
   "mimetype": "text/x-python",
   "name": "python",
   "nbconvert_exporter": "python",
   "pygments_lexer": "ipython3",
   "version": "3.7.6"
  },
  "toc": {
   "base_numbering": 1,
   "nav_menu": {},
   "number_sections": true,
   "sideBar": true,
   "skip_h1_title": false,
   "title_cell": "Table of Contents",
   "title_sidebar": "Contents",
   "toc_cell": false,
   "toc_position": {},
   "toc_section_display": true,
   "toc_window_display": false
  },
  "varInspector": {
   "cols": {
    "lenName": 16,
    "lenType": 16,
    "lenVar": 40
   },
   "kernels_config": {
    "python": {
     "delete_cmd_postfix": "",
     "delete_cmd_prefix": "del ",
     "library": "var_list.py",
     "varRefreshCmd": "print(var_dic_list())"
    },
    "r": {
     "delete_cmd_postfix": ") ",
     "delete_cmd_prefix": "rm(",
     "library": "var_list.r",
     "varRefreshCmd": "cat(var_dic_list()) "
    }
   },
   "types_to_exclude": [
    "module",
    "function",
    "builtin_function_or_method",
    "instance",
    "_Feature"
   ],
   "window_display": false
  }
 },
 "nbformat": 4,
 "nbformat_minor": 4
}
